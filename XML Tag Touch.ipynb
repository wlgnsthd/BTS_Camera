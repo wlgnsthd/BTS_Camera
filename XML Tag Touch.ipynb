{
 "cells": [
  {
   "cell_type": "code",
   "execution_count": 73,
   "id": "f79c3f8d",
   "metadata": {},
   "outputs": [],
   "source": [
    "# 수정하려는 폴더내에 코드파일 넣기\n",
    "import os\n",
    "from bs4 import BeautifulSoup\n",
    "import xml.etree.ElementTree as ET\n"
   ]
  },
  {
   "cell_type": "code",
   "execution_count": 74,
   "id": "ff031624",
   "metadata": {
    "scrolled": false
   },
   "outputs": [],
   "source": [
    "#데이터셋 디렉토리\n",
    "Dir = r'C:/Users/JHS_WIN/Desktop/1-1086/'\n",
    "#파일확장자\n",
    "fileEx = r'.xml'\n",
    "xml_list = [file for file in os.listdir(Dir) if file.endswith(fileEx)]\n",
    "#xml_list\n",
    "jpgfileEx = r'.jpg'\n",
    "jpg_list = [file for file in os.listdir(Dir) if file.endswith(jpgfileEx)]\n",
    "#jpg_list"
   ]
  },
  {
   "cell_type": "code",
   "execution_count": 75,
   "id": "80f333d3",
   "metadata": {},
   "outputs": [],
   "source": [
    "def indent(elem, level=0): \n",
    "    i = \"\\n\" + level*\"  \"\n",
    "    if len(elem):\n",
    "        if not elem.text or not elem.text.strip():\n",
    "            elem.text = i + \"  \"\n",
    "        if not elem.tail or not elem.tail.strip():\n",
    "            elem.tail = i\n",
    "        for elem in elem:\n",
    "            indent(elem, level+1)\n",
    "        if not elem.tail or not elem.tail.strip():\n",
    "            elem.tail = i\n",
    "    else:\n",
    "        if level and (not elem.tail or not elem.tail.strip()):\n",
    "            elem.tail = i"
   ]
  },
  {
   "cell_type": "code",
   "execution_count": 79,
   "id": "2a935eb6",
   "metadata": {
    "scrolled": true
   },
   "outputs": [
    {
     "name": "stdout",
     "output_type": "stream",
     "text": [
      "LadderTruck (1).xml\n",
      "_________________________________\n",
      "folder {}\n",
      "filename {}\n",
      "source {}\n",
      "size {}\n",
      "segmented {}\n",
      "object {}\n",
      "_________________________________\n",
      "xml tag [1] : LadderTruck (1).jpg\n",
      "xml tag [2] : \n",
      "    \n",
      "xml tag [3] : \n",
      "    \n",
      "xml tag [3][1] : 259\n",
      "xml tag [3][2] : 3\n",
      "xml tag [5] : \n",
      "    \n",
      "xml tag [5][1] : Unspecified\n",
      "xml tag [5][2] : 0\n",
      "xml tag [5][3] : 0\n",
      "xml tag [5][4] : 0\n",
      "xml tag [5][5] : \n",
      "      \n"
     ]
    }
   ],
   "source": [
    "# 첫번째 xml 파일 분석\n",
    "print(xml_list[0])\n",
    "print(\"_________________________________\")\n",
    "tree = ET.parse(Dir+str(xml_list[0]))\n",
    "root = tree.getroot()\n",
    "for child in root:\n",
    "    print(child.tag, child.attrib)\n",
    "\n",
    "print(\"_________________________________\")\n",
    "print(\"xml tag [\"+ str(1) + \"] : \"+root[1].text)\n",
    "for i in range(len(root)):\n",
    "    for k in range(len(root[i])):\n",
    "        if k == 0:\n",
    "            print(\"xml tag [\"+ str(i) + \"] : \"+root[i].text)\n",
    "        else:\n",
    "            print(\"xml tag [\"+ str(i) + \"][\"+str(k)+\"] : \"+root[i][k].text)"
   ]
  },
  {
   "cell_type": "code",
   "execution_count": 87,
   "id": "e2a251f5",
   "metadata": {},
   "outputs": [],
   "source": [
    "# tree 수정\n",
    "for i in range(len(xml_list)):\n",
    "    tree = ET.parse(Dir+str(xml_list[i]))\n",
    "    root = tree.getroot()\n",
    "\n",
    "    for folder in root.iter('folder'):\n",
    "        folder.text = \"\"\n",
    "        \n",
    "    for name in root.iter('filename'):\n",
    "        name.text = str(jpg_list[i])\n",
    "    \n",
    "    for path in root.findall('path'):\n",
    "        root.remove(path)\n",
    "    for source in root.findall('source'):\n",
    "        root.remove(source)    \n",
    "        \n",
    "    for database in root.iter('database'):\n",
    "        database.text = \"Unknown\"\n",
    "        \n",
    "    ET.SubElement(root,\"source\").text =\"\"\n",
    "    for sc in root.iter('source'):\n",
    "        ET.SubElement(sc, \"database\").text = \"Unknwon\"\n",
    "        ET.SubElement(sc, \"annotation\").text = \"custom\"\n",
    "        ET.SubElement(sc, \"image\").text = \"custom\" \n",
    "        \n",
    "    indent(root)\n",
    "    tree.write(Dir+str(xml_list[i]))"
   ]
  },
  {
   "cell_type": "code",
   "execution_count": null,
   "id": "7f5a8e47",
   "metadata": {},
   "outputs": [],
   "source": []
  }
 ],
 "metadata": {
  "kernelspec": {
   "display_name": "Python 3 (ipykernel)",
   "language": "python",
   "name": "python3"
  },
  "language_info": {
   "codemirror_mode": {
    "name": "ipython",
    "version": 3
   },
   "file_extension": ".py",
   "mimetype": "text/x-python",
   "name": "python",
   "nbconvert_exporter": "python",
   "pygments_lexer": "ipython3",
   "version": "3.9.12"
  }
 },
 "nbformat": 4,
 "nbformat_minor": 5
}
